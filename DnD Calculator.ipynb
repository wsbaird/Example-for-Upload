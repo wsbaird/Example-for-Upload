{
 "cells": [
  {
   "cell_type": "code",
   "execution_count": 26,
   "metadata": {},
   "outputs": [
    {
     "name": "stdout",
     "output_type": "stream",
     "text": [
      "Enter Target's Armor Class: 12\n",
      "Enter your Attack Roll: 1\n",
      "Miss.  You need a roll of 13 or higher!\n",
      "Critical Fail.\n"
     ]
    }
   ],
   "source": [
    "eac = int (input (\"Enter Target's Armor Class: \"))\n",
    "pca = int (input (\"Enter your Attack Roll: \"))\n",
    "if pca > eac: print (\"Hit!\")\n",
    "if pca > 19: print (\"Critical Hit!  Enter Maximum Damage!\")\n",
    "if pca > eac: pcd = int (input (\"Enter your Damage Roll: \"))\n",
    "if pca > eac: ehp= int (input (\"Enter Target's Health: \"))\n",
    "if pca > eac: print (ehp - pcd,\"Hit Points Remain!\")\n",
    "if pca < eac: print (\"Miss.  You need a roll of\", eac + 1, \"or higher!\")\n",
    "if pca < 2: print (\"Critical Fail.\")"
   ]
  },
  {
   "cell_type": "code",
   "execution_count": null,
   "metadata": {},
   "outputs": [],
   "source": []
  }
 ],
 "metadata": {
  "kernelspec": {
   "display_name": "Python 3",
   "language": "python",
   "name": "python3"
  },
  "language_info": {
   "codemirror_mode": {
    "name": "ipython",
    "version": 3
   },
   "file_extension": ".py",
   "mimetype": "text/x-python",
   "name": "python",
   "nbconvert_exporter": "python",
   "pygments_lexer": "ipython3",
   "version": "3.8.3"
  }
 },
 "nbformat": 4,
 "nbformat_minor": 4
}
